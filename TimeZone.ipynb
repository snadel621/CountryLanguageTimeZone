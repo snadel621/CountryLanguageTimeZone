{
 "cells": [
  {
   "cell_type": "code",
   "execution_count": 1,
   "metadata": {},
   "outputs": [
    {
     "name": "stdout",
     "output_type": "stream",
     "text": [
      "  Alpha2_Code English_Name\n",
      "0          aa         Afar\n",
      "1          ab    Abkhazian\n",
      "2         NaN     Achinese\n",
      "3         NaN        Acoli\n",
      "4         NaN      Adangme\n",
      "                   name primLang secLang\n",
      "0               Andorra       ca     NaN\n",
      "1  United Arab Emirates       ar     NaN\n",
      "2           Afghanistan       ps      uz\n",
      "3   Antigua and Barbuda       en     NaN\n",
      "4              Anguilla       en     NaN\n"
     ]
    }
   ],
   "source": [
    "#initial data loading and cleaning\n",
    "\n",
    "import pandas as pd\n",
    "from pandas.io.json import json_normalize\n",
    "import requests\n",
    "import json\n",
    "\n",
    "country = pd.read_csv(\"country.csv\")\n",
    "country.columns = [\"country_code\",\"country_name\"]\n",
    "\n",
    "time = pd.read_csv(\"timezone.csv\")\n",
    "time.columns = [\"zone_id\",\"abbreviation\",\"time_start\",\"gmt_offset\",\"dst\"]\n",
    "\n",
    "zone = pd.read_csv(\"zone.csv\")\n",
    "zone.columns = [\"zone_id\",\"country_code\",\"zone_name\"]\n",
    "\n",
    "langCode = pd.read_csv(\"langCode.csv\")\n",
    "langCode = langCode.iloc[:,2:4]\n",
    "\n",
    "url = 'countryLang.json'\n",
    "\n",
    "df = pd.read_json(url)\n",
    "df = df.transpose()\n",
    "df = df.reset_index()\n",
    "top2lang = pd.DataFrame(df['languages'].apply(pd.Series)).iloc[:,0:2]\n",
    "countryLang = pd.concat([pd.DataFrame(df[\"name\"]),top2lang],axis = 1)\n",
    "countryLang.columns = [\"name\",\"primLang\",\"secLang\"]\n",
    "print(langCode.head(5))\n",
    "print(countryLang.head(5))\n"
   ]
  },
  {
   "cell_type": "code",
   "execution_count": 2,
   "metadata": {
    "scrolled": false
   },
   "outputs": [],
   "source": [
    "#initial joins, want language name on language code\n",
    "\n",
    "#do not want missing Alpha2_codes on initial join\n",
    "countryLangCode = pd.merge(langCode.dropna(),countryLang,left_on='Alpha2_Code',right_on = 'primLang',how = 'inner')\n",
    "countryLangCode = pd.merge(countryLangCode,langCode,left_on = \"secLang\",right_on = 'Alpha2_Code',how = 'inner')\n",
    "\n",
    "countryLangCode = countryLangCode.iloc[:,[2,1,3,6,4]]\n",
    "countryLangCode.columns = [\"country\",\"codePrimary\",\"namePrimary\",\"codeSecondary\",\"nameSecondary\"]\n",
    "\n"
   ]
  },
  {
   "cell_type": "code",
   "execution_count": 3,
   "metadata": {
    "scrolled": true
   },
   "outputs": [
    {
     "name": "stdout",
     "output_type": "stream",
     "text": [
      "(161976, 7)\n",
      "Index(['zone_id', 'country_code', 'zone_name', 'abbreviation', 'time_start',\n",
      "       'gmt_offset', 'dst', 'timezone', 'offset', 'offset_dst'],\n",
      "      dtype='object')\n"
     ]
    }
   ],
   "source": [
    "#time Zone joins\n",
    "\n",
    "timeZone = pd.merge(zone,time,on = 'zone_id',how = 'inner')\n",
    "\n",
    "timeZone = timeZone.sort_values(by = ['time_start'],ascending = True)\n",
    "print(timeZone.shape)\n",
    "#rid of time_start\n",
    "offset = pd.read_csv(\"timezonesOffset.csv\")\n",
    "\n",
    "timeZone = pd.merge(timeZone,offset,left_on= 'zone_name',right_on = 'timezone',how = 'inner')\n",
    "print(timeZone.columns)\n",
    "\n",
    "timeZone = timeZone.iloc[:,[1,2,7,9]]\n",
    "timeZone['offsetHours'] = timeZone.iloc[:,3]/3600\n",
    "\n",
    "countryTimeZone = pd.merge(timeZone,country,on = \"country_code\",how = 'inner')\n",
    "countryTimeZone[\"country_name\"]=countryTimeZone[\"country_name\"].str.replace(pat = \"Russian Federation\",repl=\"Russia\")\n"
   ]
  },
  {
   "cell_type": "code",
   "execution_count": 4,
   "metadata": {},
   "outputs": [],
   "source": [
    "countryTimeZoneLang =  pd.merge(countryTimeZone,countryLangCode,left_on = 'country_name',right_on = 'country',how = 'inner')\n",
    "countryTimeZoneLang = countryTimeZoneLang.iloc[:,[5,0,1,2,3,4,7,8,9,10]]"
   ]
  },
  {
   "cell_type": "code",
   "execution_count": 5,
   "metadata": {},
   "outputs": [],
   "source": [
    "zone_split = countryTimeZoneLang[\"zone_name\"].str.split(\"/\",n=1,expand = True)"
   ]
  },
  {
   "cell_type": "code",
   "execution_count": 6,
   "metadata": {
    "scrolled": true
   },
   "outputs": [],
   "source": [
    "countryTimeZoneLang[\"zone_name\"] = zone_split[1]"
   ]
  },
  {
   "cell_type": "code",
   "execution_count": 7,
   "metadata": {},
   "outputs": [],
   "source": [
    "countryTimeZoneLang.sort_values(\"country_name\",ascending = False,inplace = True)\n",
    "\n"
   ]
  },
  {
   "cell_type": "code",
   "execution_count": 8,
   "metadata": {},
   "outputs": [
    {
     "ename": "ValueError",
     "evalue": "first not supported for non-numeric data",
     "output_type": "error",
     "traceback": [
      "\u001b[0;31m---------------------------------------------------------------------------\u001b[0m",
      "\u001b[0;31mValueError\u001b[0m                                Traceback (most recent call last)",
      "\u001b[0;32m<ipython-input-8-1ecb436477be>\u001b[0m in \u001b[0;36m<module>\u001b[0;34m\u001b[0m\n\u001b[0;32m----> 1\u001b[0;31m \u001b[0mcountryTimeZoneLang\u001b[0m\u001b[0;34m.\u001b[0m\u001b[0mrank\u001b[0m\u001b[0;34m(\u001b[0m\u001b[0mmethod\u001b[0m \u001b[0;34m=\u001b[0m \u001b[0;34m'first'\u001b[0m\u001b[0;34m)\u001b[0m\u001b[0;34m\u001b[0m\u001b[0;34m\u001b[0m\u001b[0m\n\u001b[0m\u001b[1;32m      2\u001b[0m \u001b[0;34m\u001b[0m\u001b[0m\n",
      "\u001b[0;32m/Library/Frameworks/Python.framework/Versions/3.7/lib/python3.7/site-packages/pandas/core/generic.py\u001b[0m in \u001b[0;36mrank\u001b[0;34m(self, axis, method, numeric_only, na_option, ascending, pct)\u001b[0m\n\u001b[1;32m   8688\u001b[0m         \u001b[0;32mif\u001b[0m \u001b[0mnumeric_only\u001b[0m \u001b[0;32mis\u001b[0m \u001b[0;32mNone\u001b[0m\u001b[0;34m:\u001b[0m\u001b[0;34m\u001b[0m\u001b[0;34m\u001b[0m\u001b[0m\n\u001b[1;32m   8689\u001b[0m             \u001b[0;32mtry\u001b[0m\u001b[0;34m:\u001b[0m\u001b[0;34m\u001b[0m\u001b[0;34m\u001b[0m\u001b[0m\n\u001b[0;32m-> 8690\u001b[0;31m                 \u001b[0;32mreturn\u001b[0m \u001b[0mranker\u001b[0m\u001b[0;34m(\u001b[0m\u001b[0mself\u001b[0m\u001b[0;34m)\u001b[0m\u001b[0;34m\u001b[0m\u001b[0;34m\u001b[0m\u001b[0m\n\u001b[0m\u001b[1;32m   8691\u001b[0m             \u001b[0;32mexcept\u001b[0m \u001b[0mTypeError\u001b[0m\u001b[0;34m:\u001b[0m\u001b[0;34m\u001b[0m\u001b[0;34m\u001b[0m\u001b[0m\n\u001b[1;32m   8692\u001b[0m                 \u001b[0mnumeric_only\u001b[0m \u001b[0;34m=\u001b[0m \u001b[0;32mTrue\u001b[0m\u001b[0;34m\u001b[0m\u001b[0;34m\u001b[0m\u001b[0m\n",
      "\u001b[0;32m/Library/Frameworks/Python.framework/Versions/3.7/lib/python3.7/site-packages/pandas/core/generic.py\u001b[0m in \u001b[0;36mranker\u001b[0;34m(data)\u001b[0m\n\u001b[1;32m   8679\u001b[0m                 \u001b[0mascending\u001b[0m\u001b[0;34m=\u001b[0m\u001b[0mascending\u001b[0m\u001b[0;34m,\u001b[0m\u001b[0;34m\u001b[0m\u001b[0;34m\u001b[0m\u001b[0m\n\u001b[1;32m   8680\u001b[0m                 \u001b[0mna_option\u001b[0m\u001b[0;34m=\u001b[0m\u001b[0mna_option\u001b[0m\u001b[0;34m,\u001b[0m\u001b[0;34m\u001b[0m\u001b[0;34m\u001b[0m\u001b[0m\n\u001b[0;32m-> 8681\u001b[0;31m                 \u001b[0mpct\u001b[0m\u001b[0;34m=\u001b[0m\u001b[0mpct\u001b[0m\u001b[0;34m,\u001b[0m\u001b[0;34m\u001b[0m\u001b[0;34m\u001b[0m\u001b[0m\n\u001b[0m\u001b[1;32m   8682\u001b[0m             )\n\u001b[1;32m   8683\u001b[0m             \u001b[0mranks\u001b[0m \u001b[0;34m=\u001b[0m \u001b[0mself\u001b[0m\u001b[0;34m.\u001b[0m\u001b[0m_constructor\u001b[0m\u001b[0;34m(\u001b[0m\u001b[0mranks\u001b[0m\u001b[0;34m,\u001b[0m \u001b[0;34m**\u001b[0m\u001b[0mdata\u001b[0m\u001b[0;34m.\u001b[0m\u001b[0m_construct_axes_dict\u001b[0m\u001b[0;34m(\u001b[0m\u001b[0;34m)\u001b[0m\u001b[0;34m)\u001b[0m\u001b[0;34m\u001b[0m\u001b[0;34m\u001b[0m\u001b[0m\n",
      "\u001b[0;32m/Library/Frameworks/Python.framework/Versions/3.7/lib/python3.7/site-packages/pandas/core/algorithms.py\u001b[0m in \u001b[0;36mrank\u001b[0;34m(values, axis, method, na_option, ascending, pct)\u001b[0m\n\u001b[1;32m    926\u001b[0m             \u001b[0mascending\u001b[0m\u001b[0;34m=\u001b[0m\u001b[0mascending\u001b[0m\u001b[0;34m,\u001b[0m\u001b[0;34m\u001b[0m\u001b[0;34m\u001b[0m\u001b[0m\n\u001b[1;32m    927\u001b[0m             \u001b[0mna_option\u001b[0m\u001b[0;34m=\u001b[0m\u001b[0mna_option\u001b[0m\u001b[0;34m,\u001b[0m\u001b[0;34m\u001b[0m\u001b[0;34m\u001b[0m\u001b[0m\n\u001b[0;32m--> 928\u001b[0;31m             \u001b[0mpct\u001b[0m\u001b[0;34m=\u001b[0m\u001b[0mpct\u001b[0m\u001b[0;34m,\u001b[0m\u001b[0;34m\u001b[0m\u001b[0;34m\u001b[0m\u001b[0m\n\u001b[0m\u001b[1;32m    929\u001b[0m         )\n\u001b[1;32m    930\u001b[0m     \u001b[0;32melse\u001b[0m\u001b[0;34m:\u001b[0m\u001b[0;34m\u001b[0m\u001b[0;34m\u001b[0m\u001b[0m\n",
      "\u001b[0;32mpandas/_libs/algos_rank_helper.pxi\u001b[0m in \u001b[0;36mpandas._libs.algos.rank_2d_object\u001b[0;34m()\u001b[0m\n",
      "\u001b[0;31mValueError\u001b[0m: first not supported for non-numeric data"
     ]
    }
   ],
   "source": [
    "countryTimeZoneLang.rank(method = 'first')\n",
    "\n"
   ]
  }
 ],
 "metadata": {
  "kernelspec": {
   "display_name": "Python 3",
   "language": "python",
   "name": "python3"
  },
  "language_info": {
   "codemirror_mode": {
    "name": "ipython",
    "version": 3
   },
   "file_extension": ".py",
   "mimetype": "text/x-python",
   "name": "python",
   "nbconvert_exporter": "python",
   "pygments_lexer": "ipython3",
   "version": "3.7.4"
  }
 },
 "nbformat": 4,
 "nbformat_minor": 2
}
